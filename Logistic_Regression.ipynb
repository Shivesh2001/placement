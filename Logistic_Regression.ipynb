{
  "nbformat": 4,
  "nbformat_minor": 0,
  "metadata": {
    "colab": {
      "name": "Logistic Regression.ipynb",
      "provenance": [],
      "include_colab_link": true
    },
    "kernelspec": {
      "name": "python3",
      "display_name": "Python 3"
    },
    "language_info": {
      "name": "python"
    }
  },
  "cells": [
    {
      "cell_type": "markdown",
      "metadata": {
        "id": "view-in-github",
        "colab_type": "text"
      },
      "source": [
        "<a href=\"https://colab.research.google.com/github/Shivesh2001/placement/blob/main/Logistic_Regression.ipynb\" target=\"_parent\"><img src=\"https://colab.research.google.com/assets/colab-badge.svg\" alt=\"Open In Colab\"/></a>"
      ]
    },
    {
      "cell_type": "markdown",
      "metadata": {
        "id": "TCQk3s3isTjg"
      },
      "source": [
        "# Importing Libraries "
      ]
    },
    {
      "cell_type": "code",
      "metadata": {
        "id": "tyv9SL-5t7Xs"
      },
      "source": [
        "import numpy as np\n",
        "import pandas as pd\n",
        "import matplotlib.pyplot as plt\n",
        "import seaborn as sns\n",
        "import sklearn.metrics\n",
        "import sklearn.preprocessing\n",
        "import sklearn.linear_model \n",
        "from sklearn.model_selection import train_test_split"
      ],
      "execution_count": null,
      "outputs": []
    },
    {
      "cell_type": "markdown",
      "metadata": {
        "id": "f8p3myYssZj-"
      },
      "source": [
        "# Importing Dataset"
      ]
    },
    {
      "cell_type": "code",
      "metadata": {
        "colab": {
          "base_uri": "https://localhost:8080/",
          "height": 195
        },
        "id": "Rcle-qOQuS-K",
        "outputId": "9c461bca-3684-438d-f67a-de494fecb6bb"
      },
      "source": [
        "col_names = [\"X1\" , \"X2\", \"Y\"]\n",
        "dataset = pd.read_csv(\"/content/PLA Data.csv - PLA Data.csv.csv\", names = col_names)\n",
        "dataset.head()"
      ],
      "execution_count": null,
      "outputs": [
        {
          "output_type": "execute_result",
          "data": {
            "text/html": [
              "<div>\n",
              "<style scoped>\n",
              "    .dataframe tbody tr th:only-of-type {\n",
              "        vertical-align: middle;\n",
              "    }\n",
              "\n",
              "    .dataframe tbody tr th {\n",
              "        vertical-align: top;\n",
              "    }\n",
              "\n",
              "    .dataframe thead th {\n",
              "        text-align: right;\n",
              "    }\n",
              "</style>\n",
              "<table border=\"1\" class=\"dataframe\">\n",
              "  <thead>\n",
              "    <tr style=\"text-align: right;\">\n",
              "      <th></th>\n",
              "      <th>X1</th>\n",
              "      <th>X2</th>\n",
              "      <th>Y</th>\n",
              "    </tr>\n",
              "  </thead>\n",
              "  <tbody>\n",
              "    <tr>\n",
              "      <th>0</th>\n",
              "      <td>3.680764</td>\n",
              "      <td>9.727820</td>\n",
              "      <td>1</td>\n",
              "    </tr>\n",
              "    <tr>\n",
              "      <th>1</th>\n",
              "      <td>0.355351</td>\n",
              "      <td>4.784687</td>\n",
              "      <td>2</td>\n",
              "    </tr>\n",
              "    <tr>\n",
              "      <th>2</th>\n",
              "      <td>1.337683</td>\n",
              "      <td>4.844018</td>\n",
              "      <td>1</td>\n",
              "    </tr>\n",
              "    <tr>\n",
              "      <th>3</th>\n",
              "      <td>0.053573</td>\n",
              "      <td>4.535388</td>\n",
              "      <td>2</td>\n",
              "    </tr>\n",
              "    <tr>\n",
              "      <th>4</th>\n",
              "      <td>3.248843</td>\n",
              "      <td>9.027739</td>\n",
              "      <td>1</td>\n",
              "    </tr>\n",
              "  </tbody>\n",
              "</table>\n",
              "</div>"
            ],
            "text/plain": [
              "         X1        X2  Y\n",
              "0  3.680764  9.727820  1\n",
              "1  0.355351  4.784687  2\n",
              "2  1.337683  4.844018  1\n",
              "3  0.053573  4.535388  2\n",
              "4  3.248843  9.027739  1"
            ]
          },
          "metadata": {
            "tags": []
          },
          "execution_count": 2
        }
      ]
    },
    {
      "cell_type": "code",
      "metadata": {
        "colab": {
          "base_uri": "https://localhost:8080/",
          "height": 195
        },
        "id": "0cITnA2LuusB",
        "outputId": "a2845556-c304-4fcf-ee6c-a2661e38ea8d"
      },
      "source": [
        "dataset.Y = dataset.Y.apply(lambda x: str(x)).map({\"1\": 0, \"2\": 1})\n",
        "dataset.head()"
      ],
      "execution_count": null,
      "outputs": [
        {
          "output_type": "execute_result",
          "data": {
            "text/html": [
              "<div>\n",
              "<style scoped>\n",
              "    .dataframe tbody tr th:only-of-type {\n",
              "        vertical-align: middle;\n",
              "    }\n",
              "\n",
              "    .dataframe tbody tr th {\n",
              "        vertical-align: top;\n",
              "    }\n",
              "\n",
              "    .dataframe thead th {\n",
              "        text-align: right;\n",
              "    }\n",
              "</style>\n",
              "<table border=\"1\" class=\"dataframe\">\n",
              "  <thead>\n",
              "    <tr style=\"text-align: right;\">\n",
              "      <th></th>\n",
              "      <th>X1</th>\n",
              "      <th>X2</th>\n",
              "      <th>Y</th>\n",
              "    </tr>\n",
              "  </thead>\n",
              "  <tbody>\n",
              "    <tr>\n",
              "      <th>0</th>\n",
              "      <td>3.680764</td>\n",
              "      <td>9.727820</td>\n",
              "      <td>0</td>\n",
              "    </tr>\n",
              "    <tr>\n",
              "      <th>1</th>\n",
              "      <td>0.355351</td>\n",
              "      <td>4.784687</td>\n",
              "      <td>1</td>\n",
              "    </tr>\n",
              "    <tr>\n",
              "      <th>2</th>\n",
              "      <td>1.337683</td>\n",
              "      <td>4.844018</td>\n",
              "      <td>0</td>\n",
              "    </tr>\n",
              "    <tr>\n",
              "      <th>3</th>\n",
              "      <td>0.053573</td>\n",
              "      <td>4.535388</td>\n",
              "      <td>1</td>\n",
              "    </tr>\n",
              "    <tr>\n",
              "      <th>4</th>\n",
              "      <td>3.248843</td>\n",
              "      <td>9.027739</td>\n",
              "      <td>0</td>\n",
              "    </tr>\n",
              "  </tbody>\n",
              "</table>\n",
              "</div>"
            ],
            "text/plain": [
              "         X1        X2  Y\n",
              "0  3.680764  9.727820  0\n",
              "1  0.355351  4.784687  1\n",
              "2  1.337683  4.844018  0\n",
              "3  0.053573  4.535388  1\n",
              "4  3.248843  9.027739  0"
            ]
          },
          "metadata": {
            "tags": []
          },
          "execution_count": 3
        }
      ]
    },
    {
      "cell_type": "markdown",
      "metadata": {
        "id": "OOKBviTDsfvO"
      },
      "source": [
        "# Count plot of different classes both are equally distributed"
      ]
    },
    {
      "cell_type": "code",
      "metadata": {
        "colab": {
          "base_uri": "https://localhost:8080/",
          "height": 350
        },
        "id": "QuoMNgDcvOvC",
        "outputId": "d49cbf86-c2fa-47b2-fa31-0ba0dfab2d6f"
      },
      "source": [
        "sns.countplot(dataset.Y)"
      ],
      "execution_count": null,
      "outputs": [
        {
          "output_type": "stream",
          "text": [
            "/usr/local/lib/python3.7/dist-packages/seaborn/_decorators.py:43: FutureWarning: Pass the following variable as a keyword arg: x. From version 0.12, the only valid positional argument will be `data`, and passing other arguments without an explicit keyword will result in an error or misinterpretation.\n",
            "  FutureWarning\n"
          ],
          "name": "stderr"
        },
        {
          "output_type": "execute_result",
          "data": {
            "text/plain": [
              "<matplotlib.axes._subplots.AxesSubplot at 0x7f05f28c9610>"
            ]
          },
          "metadata": {
            "tags": []
          },
          "execution_count": 4
        },
        {
          "output_type": "display_data",
          "data": {
            "image/png": "[encoded data removed]",
            "text/plain": [
              "<Figure size 432x288 with 1 Axes>"
            ]
          },
          "metadata": {
            "tags": [],
            "needs_background": "light"
          }
        }
      ]
    },
    {
      "cell_type": "markdown",
      "metadata": {
        "id": "NJlhYyoXsojU"
      },
      "source": [
        "# Scatterplot of both classes\n",
        "\n",
        "These points are linearly separable"
      ]
    },
    {
      "cell_type": "code",
      "metadata": {
        "colab": {
          "base_uri": "https://localhost:8080/",
          "height": 350
        },
        "id": "DYyccxZqvO79",
        "outputId": "b3e47820-35c0-4831-afe6-ccf19e2c2cbc"
      },
      "source": [
        "sns.scatterplot(dataset.X1, dataset.X2, hue = dataset.Y)"
      ],
      "execution_count": null,
      "outputs": [
        {
          "output_type": "stream",
          "text": [
            "/usr/local/lib/python3.7/dist-packages/seaborn/_decorators.py:43: FutureWarning: Pass the following variables as keyword args: x, y. From version 0.12, the only valid positional argument will be `data`, and passing other arguments without an explicit keyword will result in an error or misinterpretation.\n",
            "  FutureWarning\n"
          ],
          "name": "stderr"
        },
        {
          "output_type": "execute_result",
          "data": {
            "text/plain": [
              "<matplotlib.axes._subplots.AxesSubplot at 0x7f05f3019a10>"
            ]
          },
          "metadata": {
            "tags": []
          },
          "execution_count": 5
        },
        {
          "output_type": "display_data",
          "data": {
            "image/png": "[encoded data removed]",
            "text/plain": [
              "<Figure size 432x288 with 1 Axes>"
            ]
          },
          "metadata": {
            "tags": [],
            "needs_background": "light"
          }
        }
      ]
    },
    {
      "cell_type": "markdown",
      "metadata": {
        "id": "McORbqAysxFi"
      },
      "source": [
        "# Logistic Regression from scratch \n",
        "\n",
        "activation function is the sigmoid function\n",
        "\n",
        "we have set threshold to 0.5 you can play with the threshold to get a better result.\n",
        "\n",
        "learning rate = 0.01 you can also play with it to get a robust modle.\n",
        "\n"
      ]
    },
    {
      "cell_type": "code",
      "metadata": {
        "id": "Vj19CFwrvPJA"
      },
      "source": [
        "class Logistic_Regression:\n",
        "  def __init__(self, iteration, learning_rate, threshold = 0.5):\n",
        "    self.iterations = iteration \n",
        "    self.lr = learning_rate\n",
        "    self.theta = None\n",
        "    self.threshold = threshold\n",
        "  def activation_function(self, Z):\n",
        "    return 1/(1 + np.exp(-Z))\n",
        "  def predict(self, X):\n",
        "    out = np.dot(X, self.theta)\n",
        "    prediction = self.activation_function(out)\n",
        "    return np.where(prediction >= self.threshold, 1,0)\n",
        "  def fit(self, X, Y):\n",
        "    self.m, self.n = X.shape\n",
        "    self.theta = np.zeros(self.n)\n",
        "    self.X = X\n",
        "    self.Y = Y\n",
        "    for _ in range(self.iterations):\n",
        "      self.gradient_ascent()\n",
        "    return self\n",
        "  def gradient_ascent(self):\n",
        "    Y_pred = self.predict(self.X)\n",
        "    dtheta = (1/self.m)*np.dot(self.X.T, self.Y - Y_pred)\n",
        "    self.theta += self.lr * dtheta\n",
        "    return self"
      ],
      "execution_count": null,
      "outputs": []
    },
    {
      "cell_type": "markdown",
      "metadata": {
        "id": "DKTdTeKrtNRp"
      },
      "source": [
        "# Scaling and Spliting the dataset\n",
        "\n",
        "scaling is crucial for classification model.\n",
        "\n",
        "we are training the model on 160 examples.\n",
        "\n"
      ]
    },
    {
      "cell_type": "code",
      "metadata": {
        "id": "giNizDc_1VoG",
        "colab": {
          "base_uri": "https://localhost:8080/"
        },
        "outputId": "206b25eb-2c3c-4848-8f61-46f263031cac"
      },
      "source": [
        "X = dataset.iloc[:, :-1].values\n",
        "X = np.column_stack((X,np.ones(X.shape[0])))\n",
        "print(X.shape)\n",
        "ss = sklearn.preprocessing.StandardScaler()\n",
        "X = ss.fit_transform(X)\n",
        "Y = dataset.iloc[:,-1].values\n",
        "x_train, x_test, y_train, y_test = train_test_split(X, Y, test_size = 0.2)\n",
        "model = Logistic_Regression(10, 0.01, threshold = 0.5)\n",
        "model.fit(x_train, y_train)"
      ],
      "execution_count": null,
      "outputs": [
        {
          "output_type": "stream",
          "text": [
            "(200, 3)\n"
          ],
          "name": "stdout"
        },
        {
          "output_type": "execute_result",
          "data": {
            "text/plain": [
              "<__main__.Logistic_Regression at 0x7f05f2312990>"
            ]
          },
          "metadata": {
            "tags": []
          },
          "execution_count": 7
        }
      ]
    },
    {
      "cell_type": "markdown",
      "metadata": {
        "id": "cfcmmRrjtwKH"
      },
      "source": [
        "# Accuracy on Test set\n",
        "\n",
        " since the dataset was linearly separable getting 100% accuracy is no-brainer. But when your dataset is not linearly separable the accuracy rate will go down."
      ]
    },
    {
      "cell_type": "code",
      "metadata": {
        "colab": {
          "base_uri": "https://localhost:8080/"
        },
        "id": "BrIWNtim9uaB",
        "outputId": "1b6bd323-8929-4341-f6ec-2b3c2278f34e"
      },
      "source": [
        "y_pred = model.predict(x_test)\n",
        "print(\"accuracy:- \",sklearn.metrics.accuracy_score(y_test,y_pred))"
      ],
      "execution_count": null,
      "outputs": [
        {
          "output_type": "stream",
          "text": [
            "accuracy:-  1.0\n"
          ],
          "name": "stdout"
        }
      ]
    },
    {
      "cell_type": "markdown",
      "metadata": {
        "id": "mYewzQrkuRGa"
      },
      "source": [
        "# Confusion Matrix \n",
        "\n",
        "Accuracy is not a good metric to judge your classification model. We use confusion matrix to judge the performance of our model."
      ]
    },
    {
      "cell_type": "code",
      "metadata": {
        "colab": {
          "base_uri": "https://localhost:8080/",
          "height": 282
        },
        "id": "kml23ZpH9vKH",
        "outputId": "a099ff4e-25e7-4a5d-9d37-f014d05f544d"
      },
      "source": [
        "conf_matrix = sklearn.metrics.confusion_matrix(y_test, y_pred)\n",
        "#labels = ['True Neg','False Pos','False Neg','True Pos']\n",
        "#labels = np.asarray(labels).reshape(2,2)\n",
        "sns.heatmap(conf_matrix, annot = True)"
      ],
      "execution_count": null,
      "outputs": [
        {
          "output_type": "execute_result",
          "data": {
            "text/plain": [
              "<matplotlib.axes._subplots.AxesSubplot at 0x7f05f187fb10>"
            ]
          },
          "metadata": {
            "tags": []
          },
          "execution_count": 9
        },
        {
          "output_type": "display_data",
          "data": {
            "image/png": "[encoded data removed]",
            "text/plain": [
              "<Figure size 432x288 with 2 Axes>"
            ]
          },
          "metadata": {
            "tags": [],
            "needs_background": "light"
          }
        }
      ]
    },
    {
      "cell_type": "markdown",
      "metadata": {
        "id": "RuP0Q-mFvEbU"
      },
      "source": [
        "# Logistic regression using sklearn."
      ]
    },
    {
      "cell_type": "code",
      "metadata": {
        "colab": {
          "base_uri": "https://localhost:8080/"
        },
        "id": "VLDTHufgsL7X",
        "outputId": "37e9ea82-aa64-404f-d1c3-60bdf7d79d3e"
      },
      "source": [
        "from sklearn.linear_model import LogisticRegression\n",
        "model_sklearn = LogisticRegression()\n",
        "model_sklearn.fit(x_train, y_train)\n",
        "y_pred_sklearn = model_sklearn.predict(x_test)\n",
        "print(\"accuracy:- \",sklearn.metrics.accuracy_score(y_test,y_pred_sklearn))\n"
      ],
      "execution_count": null,
      "outputs": [
        {
          "output_type": "stream",
          "text": [
            "accuracy:-  1.0\n"
          ],
          "name": "stdout"
        }
      ]
    },
    {
      "cell_type": "markdown",
      "metadata": {
        "id": "GhC6BTAsvp-O"
      },
      "source": [
        "# Confusion matrix of sklearn model"
      ]
    },
    {
      "cell_type": "code",
      "metadata": {
        "colab": {
          "base_uri": "https://localhost:8080/",
          "height": 282
        },
        "id": "aiIUdTRTviI6",
        "outputId": "d36366d0-6222-4f24-8594-95f93229792a"
      },
      "source": [
        "conf_matrix_sklearn = sklearn.metrics.confusion_matrix(y_test, y_pred_sklearn)\n",
        "#labels = ['True Neg','False Pos','False Neg','True Pos']\n",
        "#labels = np.asarray(labels).reshape(2,2)\n",
        "sns.heatmap(conf_matrix_sklearn, annot = True)"
      ],
      "execution_count": null,
      "outputs": [
        {
          "output_type": "execute_result",
          "data": {
            "text/plain": [
              "<matplotlib.axes._subplots.AxesSubplot at 0x7f05e8f47110>"
            ]
          },
          "metadata": {
            "tags": []
          },
          "execution_count": 11
        },
        {
          "output_type": "display_data",
          "data": {
            "image/png": "[encoded data removed]",
            "text/plain": [
              "<Figure size 432x288 with 2 Axes>"
            ]
          },
          "metadata": {
            "tags": [],
            "needs_background": "light"
          }
        }
      ]
    }
  ]
}